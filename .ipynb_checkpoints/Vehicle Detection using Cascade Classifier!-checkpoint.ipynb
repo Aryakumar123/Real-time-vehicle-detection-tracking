{
 "cells": [
  {
   "cell_type": "markdown",
   "metadata": {},
   "source": [
    "### Reading Frames (From a Video Source):"
   ]
  },
  {
   "cell_type": "code",
   "execution_count": 6,
   "metadata": {},
   "outputs": [],
   "source": [
    "import cv2\n",
    "\n",
    "camera=cv2.VideoCapture('C:/Users/subha/Desktop/Research Contracts!/Vehicle Detection & Tracking!/VDT!/Car-1!.mp4')\n",
    "\n",
    "while(True):\n",
    "    \n",
    "    ret,img=camera.read()\n",
    "    cv2.imshow('LIVE',img)\n",
    "    \n",
    "    key=cv2.waitKey(1)\n",
    "    \n",
    "    if key==27:\n",
    "        break    \n",
    "\n",
    "cv2.destroyAllWindows()\n",
    "camera.release()"
   ]
  },
  {
   "cell_type": "markdown",
   "metadata": {},
   "source": [
    "### Detecting Cars using Cascade Classifier:"
   ]
  },
  {
   "cell_type": "code",
   "execution_count": 7,
   "metadata": {},
   "outputs": [],
   "source": [
    "import cv2\n",
    "\n",
    "car_classifier=cv2.CascadeClassifier('C:/Users/subha/Desktop/Research Contracts!/Vehicle Detection & Tracking!/VDT!/Cascades!/Vehicle and Pedestrain Detection!/Cars!.xml')\n",
    "\n",
    "camera=cv2.VideoCapture('C:/Users/subha/Desktop/Research Contracts!/Vehicle Detection & Tracking!/VDT!/Car-1!.mp4')\n",
    "\n",
    "while(True):\n",
    "\n",
    "    ret,img=camera.read()\n",
    "    \n",
    "    blur=cv2.blur(img,(1,1), 2)\n",
    "    gray=cv2.cvtColor(blur,cv2.COLOR_BGR2GRAY)\n",
    "    \n",
    "    cars=car_classifier.detectMultiScale(gray)\n",
    "    \n",
    "    for (x,y,w,h) in cars:\n",
    "\n",
    "        cv2.rectangle(img,(x,y),(x+w,y+h),(0,255,0),2)\n",
    "        cv2.putText(img,'Cars',(x,y-10),cv2.FONT_HERSHEY_SIMPLEX,0.5,(0,255,0),2)\n",
    "        \n",
    "    cv2.imshow('LIVE',img)\n",
    "    key=cv2.waitKey(1)\n",
    "    \n",
    "    if key==27:\n",
    "        break\n",
    "\n",
    "cv2.destroyAllWindows()\n",
    "camera.release()"
   ]
  },
  {
   "cell_type": "markdown",
   "metadata": {},
   "source": [
    "### Counting the number of Cars crossing the Yellow Line:"
   ]
  },
  {
   "cell_type": "code",
   "execution_count": 8,
   "metadata": {},
   "outputs": [],
   "source": [
    "import cv2\n",
    "\n",
    "cars_classifier=cv2.CascadeClassifier('C:/Users/subha/Desktop/Research Contracts!/Vehicle Detection & Tracking!/VDT!/Cascades!/Vehicle and Pedestrain Detection!/Cars!.xml')\n",
    "\n",
    "camera=cv2.VideoCapture('C:/Users/subha/Desktop/Research Contracts!/Vehicle Detection & Tracking!/VDT!/Car!.mp4')\n",
    "\n",
    "count=0\n",
    "\n",
    "while(True):\n",
    "\n",
    "    ret,img=camera.read()\n",
    "    \n",
    "    height,width=img.shape[0:2]\n",
    "    \n",
    "    img[0:70,0:width]=[0,0,255]\n",
    "    cv2.putText(img,'Vehicle Counter:',(10,50),cv2.FONT_HERSHEY_SIMPLEX,1.5,(255,255,255),2)\n",
    "    \n",
    "    cv2.line(img,(0,height-200),(width,height-200),(0,255,255),2)\n",
    "    \n",
    "    blur=cv2.blur(img,(1,1))\n",
    "    gray=cv2.cvtColor(blur,cv2.COLOR_BGR2GRAY)\n",
    "    \n",
    "    cars=cars_classifier.detectMultiScale(gray)\n",
    "    \n",
    "    for (x,y,w,h) in cars:\n",
    "        \n",
    "        bikeCy=int(y+h/2)\n",
    "        linCy=height-200\n",
    "        \n",
    "        if(bikeCy<linCy+6 and bikeCy>linCy-6):\n",
    "            \n",
    "            count=count+1\n",
    "            cv2.line(img,(0,height-200),(width,height-200),(0,0,255),5)\n",
    "        \n",
    "        cv2.rectangle(img,(x,y),(x+w,y+h),(0,0,),2)\n",
    "        cv2.putText(img,'Car',(x,y-10),cv2.FONT_HERSHEY_SIMPLEX,0.5,(0,255,0),2)\n",
    "        cv2.putText(img,str(count),(500,50),cv2.FONT_HERSHEY_SIMPLEX,1.5,(255,255,255),2)\n",
    "        \n",
    "    cv2.imshow('LIVE',img)\n",
    "    key=cv2.waitKey(1)\n",
    "    \n",
    "    if key==27:\n",
    "        break\n",
    "\n",
    "cv2.destroyAllWindows()\n",
    "camera.release()"
   ]
  },
  {
   "cell_type": "markdown",
   "metadata": {},
   "source": [
    "# Final:"
   ]
  },
  {
   "cell_type": "code",
   "execution_count": 9,
   "metadata": {},
   "outputs": [],
   "source": [
    "import cv2\n",
    "import time\n",
    "\n",
    "cars_classifier=cv2.CascadeClassifier('C:/Users/subha/Desktop/Research Contracts!/Vehicle Detection & Tracking!/VDT!/Cascades!/Vehicle and Pedestrain Detection!/Cars!.xml')\n",
    "camera=cv2.VideoCapture('C:/Users/subha/Desktop/Research Contracts!/Vehicle Detection & Tracking!/VDT!/Car!.mp4')\n",
    "count=0\n",
    "\n",
    "fps_start_time = 0\n",
    "fps = 0\n",
    "\n",
    "\n",
    "while(True):\n",
    "\n",
    "    ret,img = camera.read()\n",
    "    \n",
    "    # Calculating FPS Value:\n",
    "    fps_end_time = time.time()\n",
    "    time_diff = fps_end_time - fps_start_time\n",
    "    fps = 1/(time_diff)\n",
    "    fps_start_time = fps_end_time\n",
    "    fps_text = \"FPS: {:.2f}\".format(fps)\n",
    "    cv2.putText(img, fps_text, (5, 30), cv2.FONT_HERSHEY_COMPLEX, 1, (0,0,0),2)\n",
    "\n",
    "    cv2.line(img, (0,height-200), (width,height-200), (0,255,255), 2)\n",
    "    \n",
    "    blur=cv2.blur(img,(1,1))\n",
    "    gray=cv2.cvtColor(blur,cv2.COLOR_BGR2GRAY)\n",
    "    \n",
    "    cars=cars_classifier.detectMultiScale(gray)\n",
    "    \n",
    "    # Vehicle Counter:\n",
    "    for (x,y,w,h) in cars:\n",
    "        \n",
    "        bikeCy=int(y+h/2)\n",
    "        linCy=height-200\n",
    "        \n",
    "        if(bikeCy<linCy+6 and bikeCy>linCy-6):\n",
    "            \n",
    "            count=count+1\n",
    "            cv2.line(img,(0,height-200),(width,height-200),(0,0,255),5)\n",
    "        \n",
    "        cv2.rectangle(img, (x,y), (x+w,y+h), (0,0,),2)\n",
    "        cv2.putText(img, 'Car', (x,y-10), cv2.FONT_HERSHEY_SIMPLEX, 0.5, (0,255,0), 2)\n",
    "        cv2.putText(img,'Vehicle Counter:'+str(count), (500,50), cv2.FONT_HERSHEY_SIMPLEX, 1, (255,255,255), 2)\n",
    "        \n",
    "    cv2.imshow('LIVE',img)\n",
    "    key=cv2.waitKey(1)\n",
    "    \n",
    "    if key==27:\n",
    "        break\n",
    "\n",
    "cv2.destroyAllWindows()\n",
    "camera.release()"
   ]
  },
  {
   "cell_type": "code",
   "execution_count": null,
   "metadata": {},
   "outputs": [],
   "source": []
  }
 ],
 "metadata": {
  "kernelspec": {
   "display_name": "Python 3",
   "language": "python",
   "name": "python3"
  },
  "language_info": {
   "codemirror_mode": {
    "name": "ipython",
    "version": 3
   },
   "file_extension": ".py",
   "mimetype": "text/x-python",
   "name": "python",
   "nbconvert_exporter": "python",
   "pygments_lexer": "ipython3",
   "version": "3.8.5"
  }
 },
 "nbformat": 4,
 "nbformat_minor": 5
}
